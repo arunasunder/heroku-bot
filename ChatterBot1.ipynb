{
 "cells": [
  {
   "cell_type": "code",
   "execution_count": 5,
   "metadata": {},
   "outputs": [
    {
     "name": "stdout",
     "output_type": "stream",
     "text": [
      "Go Live now!\n",
      "Go Live now!\n"
     ]
    },
    {
     "ename": "KeyboardInterrupt",
     "evalue": "",
     "output_type": "error",
     "traceback": [
      "\u001b[0;31m---------------------------------------------------------------------------\u001b[0m",
      "\u001b[0;31mKeyboardInterrupt\u001b[0m                         Traceback (most recent call last)",
      "\u001b[0;32m<ipython-input-5-e543d8df41b3>\u001b[0m in \u001b[0;36m<module>\u001b[0;34m()\u001b[0m\n\u001b[1;32m     36\u001b[0m \u001b[0;34m\u001b[0m\u001b[0m\n\u001b[1;32m     37\u001b[0m     \u001b[0;31m# Once tweeted, wait 60 seconds before doing anything else\u001b[0m\u001b[0;34m\u001b[0m\u001b[0;34m\u001b[0m\u001b[0m\n\u001b[0;32m---> 38\u001b[0;31m     \u001b[0mtime\u001b[0m\u001b[0;34m.\u001b[0m\u001b[0msleep\u001b[0m\u001b[0;34m(\u001b[0m\u001b[0;36m60\u001b[0m\u001b[0;34m)\u001b[0m\u001b[0;34m\u001b[0m\u001b[0m\n\u001b[0m\u001b[1;32m     39\u001b[0m \u001b[0;34m\u001b[0m\u001b[0m\n\u001b[1;32m     40\u001b[0m     \u001b[0;31m# Add 1 to the counter prior to re-running the loop\u001b[0m\u001b[0;34m\u001b[0m\u001b[0;34m\u001b[0m\u001b[0m\n",
      "\u001b[0;31mKeyboardInterrupt\u001b[0m: "
     ]
    }
   ],
   "source": [
    "# Dependencies\n",
    "import tweepy\n",
    "import json\n",
    "import time\n",
    "import random \n",
    "\n",
    "# Twitter API Keys\n",
    "consumer_key = \"gmNxN1oGO0x7hZ2S3aZleASHp\"\n",
    "consumer_secret = \"KHZh1DlxV95aeOHWRvF4c4xNfBrVyk1Hg1hhMyZTP0hxIM8Nk0\"\n",
    "access_token = \"106801026-nj9pKRBBbDBCfgC5LJIe0iLDfcCMTyaQ3pT7v0Vt\"\n",
    "access_token_secret = \"TJG5kuuafGXG7GMAuHMoGx2ynMRUcr2A6SEgsg0hwvXvl\"\n",
    "\n",
    "# Setup Tweepy API Authentication\n",
    "auth = tweepy.OAuthHandler(consumer_key, consumer_secret)\n",
    "auth.set_access_token(access_token, access_token_secret)\n",
    "api = tweepy.API(auth, parser=tweepy.parsers.JSONParser())\n",
    "\n",
    "Quote = [ \"Quote1\", \"Quote2\", \"Quote3\"]\n",
    "\n",
    "# Create a function that tweets\n",
    "def TweetOut(tweet_number):\n",
    "    api.update_status(\n",
    "        \"#%s! New Tweet is: %s\" %\n",
    "        (tweet_number, random.choice(Quote) ))\n",
    "\n",
    "\n",
    "# Create a function that calls the TweetOut function every minute\n",
    "counter = 0\n",
    "\n",
    "# Infinitely loop\n",
    "while(True):\n",
    "\n",
    "    print (\"Go Live now!\") \n",
    "    # Call the TweetQuotes function and specify the tweet number\n",
    "    TweetOut(counter)\n",
    "\n",
    "    # Once tweeted, wait 60 seconds before doing anything else\n",
    "    time.sleep(60)\n",
    "\n",
    "    # Add 1 to the counter prior to re-running the loop\n",
    "    counter = counter + 1\n",
    "\n"
   ]
  }
 ],
 "metadata": {
  "kernelspec": {
   "display_name": "Python 3",
   "language": "python",
   "name": "python3"
  },
  "language_info": {
   "codemirror_mode": {
    "name": "ipython",
    "version": 3
   },
   "file_extension": ".py",
   "mimetype": "text/x-python",
   "name": "python",
   "nbconvert_exporter": "python",
   "pygments_lexer": "ipython3",
   "version": "3.6.3"
  }
 },
 "nbformat": 4,
 "nbformat_minor": 2
}
